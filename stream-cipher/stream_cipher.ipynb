{
 "cells": [
  {
   "metadata": {},
   "cell_type": "markdown",
   "source": [
    "# Stream Cipher\n",
    "### Cifrado de Información\n",
    "#### José Daniel Gómez Cabrera 21429"
   ],
   "id": "f8f36eaff0434e28"
  },
  {
   "metadata": {
    "ExecuteTime": {
     "end_time": "2025-02-25T02:44:32.728474Z",
     "start_time": "2025-02-25T02:44:32.723402Z"
    }
   },
   "cell_type": "code",
   "source": [
    "import random\n",
    "import unittest"
   ],
   "id": "305d6a6068fa01b7",
   "outputs": [],
   "execution_count": 39
  },
  {
   "metadata": {},
   "cell_type": "markdown",
   "source": [
    "### 1. Generación de Keystream\n",
    "Escriban una función en el lenguaje de programación que prefieran para generar un keystream pseudoaleatorio basado en:\n",
    "- Un generador de números pseudoaleatorios (PRNG) básico.\n",
    "- Una clave (seed/nonce) para inicializar el PRNG.\n",
    "- Asegúrate de que el keystream tenga al menos la misma longitud que el mensaje a cifrar."
   ],
   "id": "ceb127f1ae4de8f4"
  },
  {
   "metadata": {
    "ExecuteTime": {
     "end_time": "2025-02-25T02:44:32.752746Z",
     "start_time": "2025-02-25T02:44:32.750272Z"
    }
   },
   "cell_type": "code",
   "source": [
    "def generar_keystream(seed, longitud):\n",
    "    random.seed(seed)\n",
    "    keystream = []\n",
    "    for _ in range(longitud):\n",
    "        keystream.append(random.randint(0, 255))  # Genera un byte aleatorio (0-255)\n",
    "    return keystream"
   ],
   "id": "15639793ae60fc75",
   "outputs": [],
   "execution_count": 40
  },
  {
   "metadata": {
    "ExecuteTime": {
     "end_time": "2025-02-25T02:44:32.771747Z",
     "start_time": "2025-02-25T02:44:32.769779Z"
    }
   },
   "cell_type": "code",
   "source": [
    "# generar un keystream y verificar su longitud en el proceso\n",
    "seed = 12345  # Clave (seed/nonce) para inicializar el PRNG\n",
    "longitud_mensaje = 10  # Longitud del mensaje a cifrar\n",
    "keystream = generar_keystream(seed, longitud_mensaje)\n",
    "print(\"Keystream:\", keystream)"
   ],
   "id": "712b9c8b8e64df18",
   "outputs": [
    {
     "name": "stdout",
     "output_type": "stream",
     "text": [
      "Keystream: [213, 5, 152, 188, 99, 138, 223, 82, 191, 63]\n"
     ]
    }
   ],
   "execution_count": 41
  },
  {
   "metadata": {},
   "cell_type": "markdown",
   "source": [
    "### 2. Cifrado\n",
    "Implementa una función que tome un mensaje en texto plano y lo cifre utilizando la operación XOR con el keystream generado."
   ],
   "id": "4c271496f151e02c"
  },
  {
   "metadata": {
    "ExecuteTime": {
     "end_time": "2025-02-25T02:44:32.778475Z",
     "start_time": "2025-02-25T02:44:32.776745Z"
    }
   },
   "cell_type": "code",
   "source": [
    "def cifrar_xor(mensaje, keystream):\n",
    "    mensaje_cifrado = []\n",
    "    for i in range(len(mensaje)):\n",
    "        mensaje_cifrado.append(mensaje[i] ^ keystream[i])\n",
    "    return bytes(mensaje_cifrado)"
   ],
   "id": "e2c5c13f9ac97a82",
   "outputs": [],
   "execution_count": 42
  },
  {
   "metadata": {
    "ExecuteTime": {
     "end_time": "2025-02-25T02:44:32.792741Z",
     "start_time": "2025-02-25T02:44:32.791089Z"
    }
   },
   "cell_type": "code",
   "source": [
    "# cifrar un mensaje\n",
    "mensaje = b\"Stream cipher!!!\"  # Mensaje en texto plano\n",
    "keystream = generar_keystream(seed, len(mensaje))\n",
    "mensaje_cifrado = cifrar_xor(mensaje, keystream)\n",
    "print(\"Mensaje cifrado:\", mensaje_cifrado)"
   ],
   "id": "fe78eab8ddd3dba0",
   "outputs": [
    {
     "name": "stdout",
     "output_type": "stream",
     "text": [
      "Mensaje cifrado: b'\\x86q\\xea\\xd9\\x02\\xe7\\xff1\\xd6O\\xb5\\xe0+~\\x94\\x0f'\n"
     ]
    }
   ],
   "execution_count": 43
  },
  {
   "metadata": {},
   "cell_type": "markdown",
   "source": [
    "### 3. Descifrado\n",
    "Implementa una función que tome el mensaje cifrado y lo descifre utilizando la misma operación XOR con el keystream. Asegúrate de que el descifrado reproduzca exactamente el mensaje original.\n"
   ],
   "id": "3ced18cfeec05899"
  },
  {
   "metadata": {
    "ExecuteTime": {
     "end_time": "2025-02-25T02:44:32.798635Z",
     "start_time": "2025-02-25T02:44:32.797113Z"
    }
   },
   "cell_type": "code",
   "source": [
    "def descifrar_xor(mensaje_cifrado, keystream):\n",
    "    return cifrar_xor(mensaje_cifrado, keystream)  # XOR es reversible, entonces podemos reutilizar la función de cifrado"
   ],
   "id": "3569410a99daca7",
   "outputs": [],
   "execution_count": 44
  },
  {
   "metadata": {
    "ExecuteTime": {
     "end_time": "2025-02-25T02:44:32.812767Z",
     "start_time": "2025-02-25T02:44:32.811150Z"
    }
   },
   "cell_type": "code",
   "source": [
    "# descifrado\n",
    "mensaje_descifrado = descifrar_xor(mensaje_cifrado, keystream)\n",
    "print(\"Mensaje descifrado:\", mensaje_descifrado.decode())"
   ],
   "id": "5d7a21724ee14854",
   "outputs": [
    {
     "name": "stdout",
     "output_type": "stream",
     "text": [
      "Mensaje descifrado: Stream cipher!!!\n"
     ]
    }
   ],
   "execution_count": 45
  },
  {
   "metadata": {},
   "cell_type": "markdown",
   "source": [
    "### 4. Preguntas a Responder\n",
    "- ¿Qué sucede cuando cambias la clave utilizada para generar el keystream?\n",
    "    - Al cambiar la clave utilizada para generar el keystream, se generará un nuevo keystream diferente al anterior. Por lo tanto, el mensaje cifrado será diferente.\n",
    "- ¿Qué riesgos de seguridad existen si reutilizas el mismo keystream para cifrar dos mensajes diferentes?\n",
    "    - Si se utiliza el mismo keystream para cifrar dos mensajes diferentes, un atacante podría realizar un ataque de XOR entre los dos mensajes cifrados para obtener información sobre los mensajes originales, al utilizar ambos mensajes para descifrar los mensajes originales.\n",
    "- ¿Cómo afecta la longitud del keystream a la seguridad del cifrado?\n",
    "    - La longitud del keystream es fundamental para la seguridad del cifrado, porque si el keystream es demasiado corto, se pueden realizar ataques de fuerza bruta para descifrar el mensaje cifrado. Por lo tanto, es importante que el keystream sea lo suficientemente largo para garantizar la seguridad del cifrado.\n",
    "- ¿Qué consideraciones debes tener al generar un keystream en un entorno real?\n",
    "    - Al generar un keystream en un entorno real, creo que es importante utilizar un generador de números pseudoaleatorios (PRNG) seguro y confiable para garantizar la aleatoriedad del keystream. Además, es fundamental proteger la clave utilizada para inicializar el PRNG y el keystream generado para evitar posibles ataques de seguridad."
   ],
   "id": "2a550c9ef9a309f4"
  },
  {
   "metadata": {},
   "cell_type": "markdown",
   "source": [
    "### Consideraciones Adicionales\n",
    "- Incluye en tu solución ejemplos de entrada y salida (texto plano, cifrado y descifrado).\n",
    "- Utiliza pruebas unitarias para validar que el cifrado y el descifrado funcionan correctamente.\n",
    "- Reflexiona sobre las limitaciones de los generadores pseudoaleatorios simples en la seguridad de cifrados reales."
   ],
   "id": "6878e68d32adcd2e"
  },
  {
   "metadata": {
    "ExecuteTime": {
     "end_time": "2025-02-25T02:44:32.823701Z",
     "start_time": "2025-02-25T02:44:32.821729Z"
    }
   },
   "cell_type": "code",
   "source": [
    "class TestCifrado(unittest.TestCase):\n",
    "    def test_cifrado_descifrado(self):\n",
    "        mensaje = b\"Prueba de cifrado\"\n",
    "        seed = 54321\n",
    "        keystream = generar_keystream(seed, len(mensaje))\n",
    "        mensaje_cifrado = cifrar_xor(mensaje, keystream)\n",
    "        mensaje_descifrado = descifrar_xor(mensaje_cifrado, keystream)\n",
    "        self.assertEqual(mensaje, mensaje_descifrado)"
   ],
   "id": "ae6af5e4d8b89962",
   "outputs": [],
   "execution_count": 46
  },
  {
   "metadata": {
    "ExecuteTime": {
     "end_time": "2025-02-25T02:44:32.845766Z",
     "start_time": "2025-02-25T02:44:32.842575Z"
    }
   },
   "cell_type": "code",
   "source": [
    "suite = unittest.TestLoader().loadTestsFromTestCase(TestCifrado)\n",
    "unittest.TextTestRunner().run(suite)"
   ],
   "id": "964a3203307df95a",
   "outputs": [
    {
     "name": "stderr",
     "output_type": "stream",
     "text": [
      ".\n",
      "----------------------------------------------------------------------\n",
      "Ran 1 test in 0.001s\n",
      "\n",
      "OK\n"
     ]
    },
    {
     "data": {
      "text/plain": [
       "<unittest.runner.TextTestResult run=1 errors=0 failures=0>"
      ]
     },
     "execution_count": 47,
     "metadata": {},
     "output_type": "execute_result"
    }
   ],
   "execution_count": 47
  }
 ],
 "metadata": {
  "kernelspec": {
   "name": "python3",
   "language": "python",
   "display_name": "Python 3 (ipykernel)"
  }
 },
 "nbformat": 5,
 "nbformat_minor": 9
}
