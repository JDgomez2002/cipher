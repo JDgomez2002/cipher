{
 "cells": [
  {
   "metadata": {},
   "cell_type": "markdown",
   "source": [
    "# Block Cipher\n",
    "## DES (Data Encryption Standard)\n",
    "### Cifrado de Información\n",
    "#### José Daniel Gómez Cabrera 21429"
   ],
   "id": "c6fc3ef31fac1883"
  },
  {
   "metadata": {
    "ExecuteTime": {
     "end_time": "2025-03-13T23:21:14.535025Z",
     "start_time": "2025-03-13T23:21:14.532910Z"
    }
   },
   "cell_type": "code",
   "source": [
    "from Crypto.Cipher import DES\n",
    "from Crypto.Random import get_random_bytes\n",
    "import base64\n",
    "import os"
   ],
   "id": "78ddcd699fe24383",
   "outputs": [],
   "execution_count": 56
  },
  {
   "metadata": {
    "ExecuteTime": {
     "end_time": "2025-03-13T23:21:14.547936Z",
     "start_time": "2025-03-13T23:21:14.546241Z"
    }
   },
   "cell_type": "code",
   "source": [
    "def des_generate_key():\n",
    "    # DES utiliza una clave de 8 bytes (64 bits, aunque efectivamente son 56 bits)\n",
    "    return get_random_bytes(8)"
   ],
   "id": "ff1384861cb95a9e",
   "outputs": [],
   "execution_count": 57
  },
  {
   "metadata": {
    "ExecuteTime": {
     "end_time": "2025-03-13T23:21:14.559122Z",
     "start_time": "2025-03-13T23:21:14.557250Z"
    }
   },
   "cell_type": "code",
   "source": [
    "# Implementación manual de padding para DES\n",
    "def manual_padding(data, block_size=8):\n",
    "    # Calculamos cuántos bytes necesitamos añadir\n",
    "    padding_len = block_size - (len(data) % block_size)\n",
    "    # Añadimos bytes con el valor del número de bytes de padding (PKCS#7)\n",
    "    padding = bytes([padding_len] * padding_len)\n",
    "    return data + padding"
   ],
   "id": "d30f50a8ce8cc955",
   "outputs": [],
   "execution_count": 58
  },
  {
   "metadata": {
    "ExecuteTime": {
     "end_time": "2025-03-13T23:21:14.566483Z",
     "start_time": "2025-03-13T23:21:14.564506Z"
    }
   },
   "cell_type": "code",
   "source": [
    "def manual_unpadding(padded_data):\n",
    "    # Obtenemos el valor del último byte, que indica cuántos bytes de padding hay\n",
    "    padding_len = padded_data[-1]\n",
    "    # Verificamos que el padding sea válido\n",
    "    if padding_len > len(padded_data) or padding_len <= 0:\n",
    "        raise ValueError(\"Padding inválido\")\n",
    "    for i in range(1, padding_len + 1):\n",
    "        if padded_data[-i] != padding_len:\n",
    "            raise ValueError(\"Padding inválido\")\n",
    "    # Eliminamos los bytes de padding\n",
    "    return padded_data[:-padding_len]"
   ],
   "id": "f39a6ff2d6440bf0",
   "outputs": [],
   "execution_count": 59
  },
  {
   "metadata": {
    "ExecuteTime": {
     "end_time": "2025-03-13T23:21:14.572729Z",
     "start_time": "2025-03-13T23:21:14.570415Z"
    }
   },
   "cell_type": "code",
   "source": [
    "def des_encrypt_ecb(plaintext, key):\n",
    "    # Crear objeto cifrador DES en modo ECB\n",
    "    cipher = DES.new(key, DES.MODE_ECB)\n",
    "    # Aplicar padding manual\n",
    "    padded_data = manual_padding(plaintext.encode('utf-8') if isinstance(plaintext, str) else plaintext)\n",
    "    # Cifrar los datos\n",
    "    ciphertext = cipher.encrypt(padded_data)\n",
    "    # Retornar en base64 para fácil manejo\n",
    "    return base64.b64encode(ciphertext)"
   ],
   "id": "cd7c720194f9fb43",
   "outputs": [],
   "execution_count": 60
  },
  {
   "metadata": {
    "ExecuteTime": {
     "end_time": "2025-03-13T23:21:14.578186Z",
     "start_time": "2025-03-13T23:21:14.576225Z"
    }
   },
   "cell_type": "code",
   "source": [
    "def des_decrypt_ecb(ciphertext, key):\n",
    "    # Decodificar de base64\n",
    "    ciphertext = base64.b64decode(ciphertext)\n",
    "    # Crear objeto descifrador DES en modo ECB\n",
    "    cipher = DES.new(key, DES.MODE_ECB)\n",
    "    # Descifrar\n",
    "    padded_plaintext = cipher.decrypt(ciphertext)\n",
    "    # Eliminar padding manualmente\n",
    "    plaintext = manual_unpadding(padded_plaintext)\n",
    "    # Retornar como texto\n",
    "    return plaintext.decode('utf-8')"
   ],
   "id": "aa142bcd4cd9678c",
   "outputs": [],
   "execution_count": 61
  },
  {
   "metadata": {
    "ExecuteTime": {
     "end_time": "2025-03-13T23:21:14.592360Z",
     "start_time": "2025-03-13T23:21:14.590593Z"
    }
   },
   "cell_type": "code",
   "source": [
    "# Leer el archivo\n",
    "with open(\"./data/des.txt\", \"r\") as f:\n",
    "    plaintext = f.read()\n",
    "\n",
    "print(\"Texto original:\", plaintext)"
   ],
   "id": "83bc8bce02fd8636",
   "outputs": [
    {
     "name": "stdout",
     "output_type": "stream",
     "text": [
      "Texto original: The DES block cipher is a 16-round Feistel network with a block length of\n",
      "64 bits and a key length of 56 bits. The same round function ˆ f is used in each\n",
      "of the 16 rounds. The round function takes a 48-bit sub-key and, as expected\n",
      "for a (balanced) Feistel network, a 32-bit input (namely, half a block). The\n",
      "key schedule of DES is used to derive a sequence of 48-bit sub-keys k1, . . . , k16\n",
      "from the 56-bit master key.\n"
     ]
    }
   ],
   "execution_count": 62
  },
  {
   "metadata": {
    "ExecuteTime": {
     "end_time": "2025-03-13T23:21:14.675646Z",
     "start_time": "2025-03-13T23:21:14.673356Z"
    }
   },
   "cell_type": "code",
   "source": [
    "print(\"Prueba de DES con ECB (manual padding):\")\n",
    "des_key = des_generate_key()\n",
    "des_encrypted = des_encrypt_ecb(plaintext, des_key)\n",
    "print(\"Texto cifrado (base64):\", des_encrypted.decode())\n",
    "des_decrypted = des_decrypt_ecb(des_encrypted, des_key)\n",
    "print(\"Texto descifrado:\", des_decrypted)\n",
    "print(\"¿Coincide con el original?\", \"Si\" if des_decrypted == plaintext else \"No\")"
   ],
   "id": "72a32d90107d9c51",
   "outputs": [
    {
     "name": "stdout",
     "output_type": "stream",
     "text": [
      "Prueba de DES con ECB (manual padding):\n",
      "Texto cifrado (base64): L7qrm0uN8EALfrNnSVKcSiifaqdbQoPecEWCtY/D+NX2GkPhZhZCpzdzeLxQdri2KF9YtJ8B+VBNvs65ZPq+le57ZPSxYTny2SpjBsDPafK0I7zZpNcGuPrMClRl1W8oCdrsc/MzpzlYJf37Vw9/8J8mXvfEzujgr0FG7uQzbmwFTWVZ8Vzs6XBm2BeWs8cPL9FsWr1GJevRIX5L39pVCNl3J10jKnxs5jCWzdsFURuMNQu9He741EjzuH+4ZCfKX25pw7APmpjIJB8XOmgt3jdXT9mPQfpNIpA3XpR3BcB4+geyd8sagko7N7apG7lM0m+oWxXFJSUo5WPeIXINNucPcd7G43Zx06RnWtMC5Fpm/n7qWQ/wJ/e9qpF2ucE7dYKzhRqviswkEYbc+jh9B7VuGDS5sxKw3M9nYg7DZstpgW/NJmm33exmzpnWD3AGL9sQhoNUV7bcymxcCvAnALHXTisvolJwroPRFUecDie+5zkEkxXRKNbsvTSXGTwD6PYYzqzu0JS+HbI1Wug4sXiCUh1ExQxUN+htfLPoDlWDo7igHP0DLA==\n",
      "Texto descifrado: The DES block cipher is a 16-round Feistel network with a block length of\n",
      "64 bits and a key length of 56 bits. The same round function ˆ f is used in each\n",
      "of the 16 rounds. The round function takes a 48-bit sub-key and, as expected\n",
      "for a (balanced) Feistel network, a 32-bit input (namely, half a block). The\n",
      "key schedule of DES is used to derive a sequence of 48-bit sub-keys k1, . . . , k16\n",
      "from the 56-bit master key.\n",
      "¿Coincide con el original? Si\n"
     ]
    }
   ],
   "execution_count": 63
  }
 ],
 "metadata": {
  "kernelspec": {
   "name": "python3",
   "language": "python",
   "display_name": "Python 3 (ipykernel)"
  }
 },
 "nbformat": 5,
 "nbformat_minor": 9
}
