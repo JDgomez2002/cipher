{
 "cells": [
  {
   "metadata": {},
   "cell_type": "markdown",
   "source": [
    "# Block Cipher\n",
    "## DES (Data Encryption Standard)\n",
    "### Cifrado de Información\n",
    "#### José Daniel Gómez Cabrera 21429"
   ],
   "id": "c6fc3ef31fac1883"
  },
  {
   "metadata": {
    "ExecuteTime": {
     "end_time": "2025-03-07T00:27:55.223173Z",
     "start_time": "2025-03-07T00:27:55.220638Z"
    }
   },
   "cell_type": "code",
   "source": [
    "from Crypto.Cipher import DES\n",
    "from Crypto.Random import get_random_bytes\n",
    "import base64"
   ],
   "id": "78ddcd699fe24383",
   "outputs": [],
   "execution_count": 9
  },
  {
   "metadata": {
    "ExecuteTime": {
     "end_time": "2025-03-07T00:27:55.236227Z",
     "start_time": "2025-03-07T00:27:55.234204Z"
    }
   },
   "cell_type": "code",
   "source": [
    "def des_generate_key():\n",
    "    # DES utiliza una clave de 8 bytes (64 bits, aunque efectivamente son 56 bits)\n",
    "    return get_random_bytes(8)"
   ],
   "id": "ff1384861cb95a9e",
   "outputs": [],
   "execution_count": 10
  },
  {
   "metadata": {
    "ExecuteTime": {
     "end_time": "2025-03-07T00:27:55.247442Z",
     "start_time": "2025-03-07T00:27:55.245395Z"
    }
   },
   "cell_type": "code",
   "source": [
    "# Implementación manual de padding para DES\n",
    "def manual_padding(data, block_size=8):\n",
    "    # Calculamos cuántos bytes necesitamos añadir\n",
    "    padding_len = block_size - (len(data) % block_size)\n",
    "    # Añadimos bytes con el valor del número de bytes de padding (PKCS#7)\n",
    "    padding = bytes([padding_len] * padding_len)\n",
    "    return data + padding"
   ],
   "id": "d30f50a8ce8cc955",
   "outputs": [],
   "execution_count": 11
  },
  {
   "metadata": {
    "ExecuteTime": {
     "end_time": "2025-03-07T00:27:55.253083Z",
     "start_time": "2025-03-07T00:27:55.251029Z"
    }
   },
   "cell_type": "code",
   "source": [
    "def manual_unpadding(padded_data):\n",
    "    # Obtenemos el valor del último byte, que indica cuántos bytes de padding hay\n",
    "    padding_len = padded_data[-1]\n",
    "    # Verificamos que el padding sea válido\n",
    "    if padding_len > len(padded_data) or padding_len <= 0:\n",
    "        raise ValueError(\"Padding inválido\")\n",
    "    for i in range(1, padding_len + 1):\n",
    "        if padded_data[-i] != padding_len:\n",
    "            raise ValueError(\"Padding inválido\")\n",
    "    # Eliminamos los bytes de padding\n",
    "    return padded_data[:-padding_len]"
   ],
   "id": "f39a6ff2d6440bf0",
   "outputs": [],
   "execution_count": 12
  },
  {
   "metadata": {
    "ExecuteTime": {
     "end_time": "2025-03-07T00:27:55.258581Z",
     "start_time": "2025-03-07T00:27:55.256880Z"
    }
   },
   "cell_type": "code",
   "source": [
    "def des_encrypt_ecb(plaintext, key):\n",
    "    # Crear objeto cifrador DES en modo ECB\n",
    "    cipher = DES.new(key, DES.MODE_ECB)\n",
    "    # Aplicar padding manual\n",
    "    padded_data = manual_padding(plaintext.encode('utf-8') if isinstance(plaintext, str) else plaintext)\n",
    "    # Cifrar los datos\n",
    "    ciphertext = cipher.encrypt(padded_data)\n",
    "    # Retornar en base64 para fácil manejo\n",
    "    return base64.b64encode(ciphertext)"
   ],
   "id": "cd7c720194f9fb43",
   "outputs": [],
   "execution_count": 13
  },
  {
   "metadata": {
    "ExecuteTime": {
     "end_time": "2025-03-07T00:27:55.264102Z",
     "start_time": "2025-03-07T00:27:55.262544Z"
    }
   },
   "cell_type": "code",
   "source": [
    "def des_decrypt_ecb(ciphertext, key):\n",
    "    # Decodificar de base64\n",
    "    ciphertext = base64.b64decode(ciphertext)\n",
    "    # Crear objeto descifrador DES en modo ECB\n",
    "    cipher = DES.new(key, DES.MODE_ECB)\n",
    "    # Descifrar\n",
    "    padded_plaintext = cipher.decrypt(ciphertext)\n",
    "    # Eliminar padding manualmente\n",
    "    plaintext = manual_unpadding(padded_plaintext)\n",
    "    # Retornar como texto\n",
    "    return plaintext.decode('utf-8')"
   ],
   "id": "aa142bcd4cd9678c",
   "outputs": [],
   "execution_count": 14
  },
  {
   "metadata": {},
   "cell_type": "code",
   "outputs": [],
   "execution_count": null,
   "source": "",
   "id": "83bc8bce02fd8636"
  }
 ],
 "metadata": {
  "kernelspec": {
   "name": "python3",
   "language": "python",
   "display_name": "Python 3 (ipykernel)"
  }
 },
 "nbformat": 5,
 "nbformat_minor": 9
}
