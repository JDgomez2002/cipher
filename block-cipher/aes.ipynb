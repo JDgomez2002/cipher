{
 "cells": [
  {
   "metadata": {},
   "cell_type": "markdown",
   "source": [
    "# Block Cipher\n",
    "## AES con CBC Y ECB\n",
    "### Cifrado de Información\n",
    "#### José Daniel Gómez Cabrera 21429"
   ],
   "id": "c478f8c794de37b"
  },
  {
   "metadata": {
    "ExecuteTime": {
     "end_time": "2025-03-13T23:21:59.689322Z",
     "start_time": "2025-03-13T23:21:59.686558Z"
    }
   },
   "cell_type": "code",
   "source": [
    "from Crypto.Cipher import AES\n",
    "from Crypto.Util.Padding import pad, unpad\n",
    "from Crypto.Random import get_random_bytes\n",
    "import os\n",
    "import base64\n",
    "from PIL import Image\n",
    "import io"
   ],
   "id": "822ee9686cb5dfaa",
   "outputs": [],
   "execution_count": 59
  },
  {
   "metadata": {
    "ExecuteTime": {
     "end_time": "2025-03-13T23:21:59.701586Z",
     "start_time": "2025-03-13T23:21:59.699840Z"
    }
   },
   "cell_type": "code",
   "source": [
    "def aes_generate_key():\n",
    "    # AES-256 utiliza una clave de 32 bytes (256 bits)\n",
    "    return get_random_bytes(32)"
   ],
   "id": "2f94fcf476528fa1",
   "outputs": [],
   "execution_count": 60
  },
  {
   "metadata": {
    "ExecuteTime": {
     "end_time": "2025-03-13T23:21:59.708790Z",
     "start_time": "2025-03-13T23:21:59.707036Z"
    }
   },
   "cell_type": "code",
   "source": [
    "def aes_generate_iv():\n",
    "    # AES usa bloques de 16 bytes, por lo que el IV también es de 16 bytes\n",
    "    return get_random_bytes(AES.block_size)"
   ],
   "id": "ea7ff8169c05e1a3",
   "outputs": [],
   "execution_count": 61
  },
  {
   "metadata": {
    "ExecuteTime": {
     "end_time": "2025-03-13T23:21:59.715275Z",
     "start_time": "2025-03-13T23:21:59.713336Z"
    }
   },
   "cell_type": "code",
   "source": [
    "def aes_encrypt_cbc(plaintext, key, iv=None):\n",
    "    # Usar IV proporcionado o generar uno nuevo\n",
    "    if iv is None:\n",
    "        iv = aes_generate_iv()\n",
    "    # Crear objeto cifrador AES en modo CBC\n",
    "    cipher = AES.new(key, AES.MODE_CBC, iv=iv)\n",
    "    # Aplicar padding\n",
    "    padded_data = pad(plaintext.encode('utf-8') if isinstance(plaintext, str) else plaintext, AES.block_size)\n",
    "    # Cifrar los datos\n",
    "    ciphertext = cipher.encrypt(padded_data)\n",
    "    # Retornar IV + ciphertext en base64\n",
    "    return base64.b64encode(iv + ciphertext), iv"
   ],
   "id": "4f59627fbce47f82",
   "outputs": [],
   "execution_count": 62
  },
  {
   "metadata": {
    "ExecuteTime": {
     "end_time": "2025-03-13T23:21:59.721791Z",
     "start_time": "2025-03-13T23:21:59.719819Z"
    }
   },
   "cell_type": "code",
   "source": [
    "def aes_decrypt_cbc(ciphertext, key):\n",
    "    # Decodificar de base64\n",
    "    ciphertext = base64.b64decode(ciphertext)\n",
    "    # Extraer IV (primeros 16 bytes)\n",
    "    iv = ciphertext[:16]\n",
    "    ciphertext = ciphertext[16:]\n",
    "    # Crear objeto descifrador AES en modo CBC\n",
    "    cipher = AES.new(key, AES.MODE_CBC, iv=iv)\n",
    "    # Descifrar\n",
    "    padded_plaintext = cipher.decrypt(ciphertext)\n",
    "    # Eliminar padding\n",
    "    plaintext = unpad(padded_plaintext, AES.block_size)\n",
    "    # Retornar como texto\n",
    "    return plaintext.decode('utf-8')"
   ],
   "id": "1d736144d19a5ace",
   "outputs": [],
   "execution_count": 63
  },
  {
   "metadata": {
    "ExecuteTime": {
     "end_time": "2025-03-13T23:21:59.727943Z",
     "start_time": "2025-03-13T23:21:59.726150Z"
    }
   },
   "cell_type": "code",
   "source": [
    "def aes_encrypt_ecb(plaintext, key):\n",
    "    # Crear objeto cifrador AES en modo ECB\n",
    "    cipher = AES.new(key, AES.MODE_ECB)\n",
    "    # Aplicar padding\n",
    "    padded_data = pad(plaintext.encode('utf-8') if isinstance(plaintext, str) else plaintext, AES.block_size)\n",
    "    # Cifrar los datos\n",
    "    ciphertext = cipher.encrypt(padded_data)\n",
    "    # Retornar en base64\n",
    "    return base64.b64encode(ciphertext)"
   ],
   "id": "8030d34a71293bc3",
   "outputs": [],
   "execution_count": 64
  },
  {
   "metadata": {
    "ExecuteTime": {
     "end_time": "2025-03-13T23:21:59.733397Z",
     "start_time": "2025-03-13T23:21:59.731775Z"
    }
   },
   "cell_type": "code",
   "source": [
    "def aes_decrypt_ecb(ciphertext, key):\n",
    "    # Decodificar de base64\n",
    "    ciphertext = base64.b64decode(ciphertext)\n",
    "    # Crear objeto descifrador AES en modo ECB\n",
    "    cipher = AES.new(key, AES.MODE_ECB)\n",
    "    # Descifrar\n",
    "    padded_plaintext = cipher.decrypt(ciphertext)\n",
    "    # Eliminar padding\n",
    "    plaintext = unpad(padded_plaintext, AES.block_size)\n",
    "    # Retornar como texto\n",
    "    return plaintext.decode('utf-8')"
   ],
   "id": "343d48042bf76472",
   "outputs": [],
   "execution_count": 65
  },
  {
   "metadata": {},
   "cell_type": "markdown",
   "source": "## Cifrado de imagenes",
   "id": "8e9d9d74e40b7d92"
  },
  {
   "metadata": {
    "ExecuteTime": {
     "end_time": "2025-03-13T23:21:59.738969Z",
     "start_time": "2025-03-13T23:21:59.736837Z"
    }
   },
   "cell_type": "code",
   "source": [
    "def encrypt_image_aes(image_path, key, mode=\"CBC\"):\n",
    "    \"\"\"Cifra una imagen usando AES en modo CBC o ECB\"\"\"\n",
    "    # Leer imagen\n",
    "    with open(image_path, 'rb') as f:\n",
    "        image_data = f.read()\n",
    "\n",
    "    if mode == \"CBC\":\n",
    "        # Cifrar con CBC\n",
    "        iv = aes_generate_iv()\n",
    "        cipher = AES.new(key, AES.MODE_CBC, iv=iv)\n",
    "        padded_data = pad(image_data, AES.block_size)\n",
    "        encrypted_data = iv + cipher.encrypt(padded_data)\n",
    "    else:\n",
    "        # Cifrar con ECB\n",
    "        cipher = AES.new(key, AES.MODE_ECB)\n",
    "        padded_data = pad(image_data, AES.block_size)\n",
    "        encrypted_data = cipher.encrypt(padded_data)\n",
    "\n",
    "    # Guardar imagen cifrada\n",
    "    encrypted_path = image_path.split('.')[0] + f'_encrypted_{mode}.' + image_path.split('.')[-1]\n",
    "    with open(encrypted_path, 'wb') as f:\n",
    "        f.write(encrypted_data)\n",
    "\n",
    "    return encrypted_path"
   ],
   "id": "df3ed480596cb6b9",
   "outputs": [],
   "execution_count": 66
  },
  {
   "metadata": {
    "ExecuteTime": {
     "end_time": "2025-03-13T23:21:59.744493Z",
     "start_time": "2025-03-13T23:21:59.742486Z"
    }
   },
   "cell_type": "code",
   "source": [
    "def decrypt_image_aes(encrypted_path, key, mode=\"CBC\"):\n",
    "    \"\"\"Descifra una imagen usando AES en modo CBC o ECB\"\"\"\n",
    "    # Leer imagen cifrada\n",
    "    with open(encrypted_path, 'rb') as f:\n",
    "        encrypted_data = f.read()\n",
    "\n",
    "    if mode == \"CBC\":\n",
    "        # Extraer IV (primeros 16 bytes)\n",
    "        iv = encrypted_data[:16]\n",
    "        encrypted_data = encrypted_data[16:]\n",
    "        # Descifrar con CBC\n",
    "        cipher = AES.new(key, AES.MODE_CBC, iv=iv)\n",
    "    else:\n",
    "        # Descifrar con ECB\n",
    "        cipher = AES.new(key, AES.MODE_ECB)\n",
    "\n",
    "    # Descifrar y eliminar padding\n",
    "    padded_data = cipher.decrypt(encrypted_data)\n",
    "    image_data = unpad(padded_data, AES.block_size)\n",
    "\n",
    "    # Guardar imagen descifrada\n",
    "    decrypted_path = encrypted_path.split('_encrypted')[0] + f'_decrypted_{mode}.' + encrypted_path.split('.')[-1]\n",
    "    with open(decrypted_path, 'wb') as f:\n",
    "        f.write(image_data)\n",
    "\n",
    "    return decrypted_path"
   ],
   "id": "d9af926fe0bf0a6",
   "outputs": [],
   "execution_count": 67
  },
  {
   "metadata": {
    "ExecuteTime": {
     "end_time": "2025-03-13T23:21:59.749627Z",
     "start_time": "2025-03-13T23:21:59.747842Z"
    }
   },
   "cell_type": "code",
   "source": [
    "# Leer el archivo\n",
    "with open(\"./data/des.txt\", \"r\") as f:\n",
    "    plaintext = f.read()\n",
    "\n",
    "print(\"Texto original:\", plaintext)\n",
    "print(\"-\" * 50)"
   ],
   "id": "ec7196b06d3de391",
   "outputs": [
    {
     "name": "stdout",
     "output_type": "stream",
     "text": [
      "Texto original: The DES block cipher is a 16-round Feistel network with a block length of\n",
      "64 bits and a key length of 56 bits. The same round function ˆ f is used in each\n",
      "of the 16 rounds. The round function takes a 48-bit sub-key and, as expected\n",
      "for a (balanced) Feistel network, a 32-bit input (namely, half a block). The\n",
      "key schedule of DES is used to derive a sequence of 48-bit sub-keys k1, . . . , k16\n",
      "from the 56-bit master key.\n",
      "--------------------------------------------------\n"
     ]
    }
   ],
   "execution_count": 68
  },
  {
   "metadata": {
    "ExecuteTime": {
     "end_time": "2025-03-13T23:21:59.762655Z",
     "start_time": "2025-03-13T23:21:59.760689Z"
    }
   },
   "cell_type": "code",
   "source": [
    "print(\"AES con CBC:\")\n",
    "aes_key = aes_generate_key()\n",
    "aes_encrypted_cbc, iv = aes_encrypt_cbc(plaintext, aes_key)\n",
    "print(\"Texto cifrado con CBC (base64):\", aes_encrypted_cbc.decode())\n",
    "aes_decrypted_cbc = aes_decrypt_cbc(aes_encrypted_cbc, aes_key)\n",
    "print(\"Texto descifrado:\", aes_decrypted_cbc)\n",
    "print(\"¿Coincide con el original?\", end=\"\")\n",
    "print(\"Si\" if aes_decrypted_cbc == plaintext else \"No\")"
   ],
   "id": "e9321b2f30d0133c",
   "outputs": [
    {
     "name": "stdout",
     "output_type": "stream",
     "text": [
      "AES con CBC:\n",
      "Texto cifrado con CBC (base64): GuukgHHbEtnr6b/ia4pqiA/vdtjfk6+RT3WmV3FxGzHBnX+lhH4yI2GHoMxj9Cgm8aqCcazp+Lx0g9/hu20J7MkGtyDYjvlOR08fb83nG3SClST2o+ht/Oo/CZh6+WHkNGsjvOSrUxYQh8dx39/7skOoAU5yGiMCw4iD3AJTU0TtB/rT6dSUUxFEjdTMpJvmNjKkJOOmCadT2UwNqkzQJRHIGpEW582OhdyWcRulItDQlMULsbC+mDJQOvqR1GsEm6KTVG31xJ2CrX18A8onigc9/RhUxXNQno+VoFedl2aoGD/9h9WTOcKdRdOx/u7Qg+Rh5/XhB9AZHaJTXV8k5jABshCzBZVnnPkAW+ujL72tb8s7I/RRplNi5dSDeYFfDXoGSEpfvszTtkiW/8qL7OhcieaUTQKUXJhMThWvMnxsqxyLI5olXCSOkQlpKVw1zfTcG9j4+KxC2Hs4/9RmXqHogImCBcsz+IH2QpjDgJL8Lh1nS4ba6mZ+cktGdEb+kxrXRYyriodP2fMHRWtGEO1VpdKuWjZUjbrAJZExkrCro8nKEj1HteyPLKlxrMvTX5dlSppqOianL13/kZud9A==\n",
      "Texto descifrado: The DES block cipher is a 16-round Feistel network with a block length of\n",
      "64 bits and a key length of 56 bits. The same round function ˆ f is used in each\n",
      "of the 16 rounds. The round function takes a 48-bit sub-key and, as expected\n",
      "for a (balanced) Feistel network, a 32-bit input (namely, half a block). The\n",
      "key schedule of DES is used to derive a sequence of 48-bit sub-keys k1, . . . , k16\n",
      "from the 56-bit master key.\n",
      "¿Coincide con el original?Si\n"
     ]
    }
   ],
   "execution_count": 69
  },
  {
   "metadata": {
    "ExecuteTime": {
     "end_time": "2025-03-13T23:21:59.781412Z",
     "start_time": "2025-03-13T23:21:59.779590Z"
    }
   },
   "cell_type": "code",
   "source": [
    "print(\"AES con ECB:\")\n",
    "aes_encrypted_ecb = aes_encrypt_ecb(plaintext, aes_key)\n",
    "print(\"Texto cifrado con ECB (base64):\", aes_encrypted_ecb.decode())\n",
    "aes_decrypted_ecb = aes_decrypt_ecb(aes_encrypted_ecb, aes_key)\n",
    "print(\"Texto descifrado:\", aes_decrypted_ecb)\n",
    "print(\"¿Coincide con el original?\", \"Si\" if aes_decrypted_ecb == plaintext else \"No\")"
   ],
   "id": "f4fac611f87849e4",
   "outputs": [
    {
     "name": "stdout",
     "output_type": "stream",
     "text": [
      "AES con ECB:\n",
      "Texto cifrado con ECB (base64): Qf7snP0J6LaA8DvW6A0Ai9TGanjywovIE7lEj4UMP/dG0ChpE1PQ6u3ptWIlBW/7C8q/TovcFBIDHpgGAC01zb+llKU5Ql2c2NSO9bwMfe7iWVTarXE5bHUisPMbWMQxVmgosXwLcBkRr7ABZJiVFKqXS5CmLgKlj2kD2MYpim1KxpTLS94OT4ycM3QKe7Al61SqiAmtw/UGtjCRRvmITw0HbiifnO1VROU9hBJB/2nVe4D+Itm5Uu/0z9OY6KmjwSiF8F0A71op9tEypZvxNb7DrSE4snYR43Ybw0iGDY4Y1gal9xnoOQk6SdzAyWatNY2/TM4gHdAmhJ3v8hl2/6DT1TYOygn/TTjAtA00/Q5MeEypO15ZH6yeb0urDYR0FLPMdgl8M3ryFhBkJA0vn/U2Rur9KDTCEmnqyLI2h4ckGEeP3q0UANeQxSNFXdm3IdRc8R3F0AFOuH/SlZ9vHApoIDBWiydnzizL8EWFwWT+Pleiu17fytD91s71necwUgrB/yl5XwKfujvwno9rnHGli60KaDDFbgwEFTU8T78aFARcU+ZFhVb8rDHRVR4/\n",
      "Texto descifrado: The DES block cipher is a 16-round Feistel network with a block length of\n",
      "64 bits and a key length of 56 bits. The same round function ˆ f is used in each\n",
      "of the 16 rounds. The round function takes a 48-bit sub-key and, as expected\n",
      "for a (balanced) Feistel network, a 32-bit input (namely, half a block). The\n",
      "key schedule of DES is used to derive a sequence of 48-bit sub-keys k1, . . . , k16\n",
      "from the 56-bit master key.\n",
      "¿Coincide con el original? Si\n"
     ]
    }
   ],
   "execution_count": 70
  }
 ],
 "metadata": {
  "kernelspec": {
   "name": "python3",
   "language": "python",
   "display_name": "Python 3 (ipykernel)"
  }
 },
 "nbformat": 5,
 "nbformat_minor": 9
}
