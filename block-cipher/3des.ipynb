{
 "cells": [
  {
   "metadata": {},
   "cell_type": "markdown",
   "source": [
    "# Block Cipher\n",
    "## 3DES (Triple Data Encryption Standard)\n",
    "### Cifrado de Información\n",
    "#### José Daniel Gómez Cabrera 21429"
   ],
   "id": "d95412897a7f7a99"
  },
  {
   "metadata": {
    "ExecuteTime": {
     "end_time": "2025-03-13T23:20:55.022405Z",
     "start_time": "2025-03-13T23:20:55.019766Z"
    }
   },
   "cell_type": "code",
   "source": [
    "from Crypto.Cipher import DES3\n",
    "from Crypto.Util.Padding import pad, unpad\n",
    "from Crypto.Random import get_random_bytes\n",
    "import base64"
   ],
   "id": "9e109a6f7f57fc83",
   "outputs": [],
   "execution_count": 11
  },
  {
   "metadata": {
    "ExecuteTime": {
     "end_time": "2025-03-13T23:20:55.033964Z",
     "start_time": "2025-03-13T23:20:55.032114Z"
    }
   },
   "cell_type": "code",
   "source": [
    "def triple_des_generate_key():\n",
    "    # 3DES utiliza una clave de 24 bytes (192 bits, aunque efectivamente son 168 bits)\n",
    "    return get_random_bytes(24)"
   ],
   "id": "22df6964a8fda5d2",
   "outputs": [],
   "execution_count": 12
  },
  {
   "metadata": {
    "ExecuteTime": {
     "end_time": "2025-03-13T23:20:55.042329Z",
     "start_time": "2025-03-13T23:20:55.040188Z"
    }
   },
   "cell_type": "code",
   "source": [
    "def triple_des_encrypt_cbc(plaintext, key):\n",
    "    # Generar vector de inicialización aleatorio\n",
    "    iv = get_random_bytes(8)  # 3DES usa bloques de 8 bytes\n",
    "    # Crear objeto cifrador 3DES en modo CBC\n",
    "    cipher = DES3.new(key, DES3.MODE_CBC, iv=iv)\n",
    "    # Aplicar padding usando la función de la biblioteca\n",
    "    padded_data = pad(plaintext.encode('utf-8') if isinstance(plaintext, str) else plaintext, DES3.block_size)\n",
    "    # Cifrar los datos\n",
    "    ciphertext = cipher.encrypt(padded_data)\n",
    "    # Retornar IV + ciphertext en base64\n",
    "    return base64.b64encode(iv + ciphertext)"
   ],
   "id": "ea98fd1ddc9bdcfc",
   "outputs": [],
   "execution_count": 13
  },
  {
   "metadata": {
    "ExecuteTime": {
     "end_time": "2025-03-13T23:20:55.048214Z",
     "start_time": "2025-03-13T23:20:55.046434Z"
    }
   },
   "cell_type": "code",
   "source": [
    "def triple_des_decrypt_cbc(ciphertext, key):\n",
    "    # Decodificar de base64\n",
    "    ciphertext = base64.b64decode(ciphertext)\n",
    "    # Extraer IV (primeros 8 bytes)\n",
    "    iv = ciphertext[:8]\n",
    "    ciphertext = ciphertext[8:]\n",
    "    # Crear objeto descifrador 3DES en modo CBC\n",
    "    cipher = DES3.new(key, DES3.MODE_CBC, iv=iv)\n",
    "    # Descifrar\n",
    "    padded_plaintext = cipher.decrypt(ciphertext)\n",
    "    # Eliminar padding\n",
    "    plaintext = unpad(padded_plaintext, DES3.block_size)\n",
    "    # Retornar como texto\n",
    "    return plaintext.decode('utf-8')"
   ],
   "id": "bfb2a5f9b669a195",
   "outputs": [],
   "execution_count": 14
  },
  {
   "metadata": {
    "ExecuteTime": {
     "end_time": "2025-03-13T23:20:55.055370Z",
     "start_time": "2025-03-13T23:20:55.053299Z"
    }
   },
   "cell_type": "code",
   "source": [
    "# Leer el archivo\n",
    "with open(\"./data/des.txt\", \"r\") as f:\n",
    "    plaintext = f.read()\n",
    "\n",
    "print(\"Texto original:\", plaintext)"
   ],
   "id": "403efc0816d54917",
   "outputs": [
    {
     "name": "stdout",
     "output_type": "stream",
     "text": [
      "Texto original: The DES block cipher is a 16-round Feistel network with a block length of\n",
      "64 bits and a key length of 56 bits. The same round function ˆ f is used in each\n",
      "of the 16 rounds. The round function takes a 48-bit sub-key and, as expected\n",
      "for a (balanced) Feistel network, a 32-bit input (namely, half a block). The\n",
      "key schedule of DES is used to derive a sequence of 48-bit sub-keys k1, . . . , k16\n",
      "from the 56-bit master key.\n"
     ]
    }
   ],
   "execution_count": 15
  },
  {
   "metadata": {
    "ExecuteTime": {
     "end_time": "2025-03-13T23:20:55.131353Z",
     "start_time": "2025-03-13T23:20:55.128934Z"
    }
   },
   "cell_type": "code",
   "source": [
    "print(\"Prueba de 3DES con CBC (padding de librería):\")\n",
    "triple_des_key = triple_des_generate_key()\n",
    "triple_des_encrypted = triple_des_encrypt_cbc(plaintext, triple_des_key)\n",
    "print(\"Texto cifrado (base64):\", triple_des_encrypted.decode())\n",
    "triple_des_decrypted = triple_des_decrypt_cbc(triple_des_encrypted, triple_des_key)\n",
    "print(\"Texto descifrado:\", triple_des_decrypted)\n",
    "print(\"¿Coincide con el original?\", \"Si\" if triple_des_decrypted == plaintext else \"No\")"
   ],
   "id": "df60048299255575",
   "outputs": [
    {
     "name": "stdout",
     "output_type": "stream",
     "text": [
      "Prueba de 3DES con CBC (padding de librería):\n",
      "Texto cifrado (base64): OU1fyFzZRqW/fr+YSqdzO4J5Q2ntV/IVMk8AJ7mTi+AbVVeN7Bcfrr/rLvFVzp+SWkALY/0iAAB4L4+JykJPIP2RxMGK6sEJSzZD+nyhGClUVfa/YbHTpYtXQD1tDZ8Ui3+KweoKwbqGwnjmvrdxcT31o/lTOjReV3Wse7TwCnc9QtWcP9DiVFbJPRqY2stRsBAY8kUsG2cEN0R/6AF7Q18KqP5mNbUo/qMlezN81aSHEkjMf8x7bdsGKrTP2RvCkGgZqc7RZ1S3mzcnmcQj/wdojDZbeZvnqg/ZzGnFhqawLoLhwdomCnyTS3/MUCWLbvjEodSRd1ApZeD1zl8QsHbHBN7r30fcypHRYIHRe1nwHaHl5Eno4LdPNjKhlVje16PVhHFUH83wPF5l9prGzL3p+UYiTHy0tNEqCbXrr4zi1Pt6ayH2vti7ah65goN8/Ub7xg/Y3ZAEnc9+39dgG2NViUqQBqzVcypygoVqm9pNlY4jFLNpvwTB5g5Iz9/de7vRIjx6eFQGII2aiFfFYni7cHWctprXvPj/dA1asRyzcbyY0t8KsxHoDXiuYN5r\n",
      "Texto descifrado: The DES block cipher is a 16-round Feistel network with a block length of\n",
      "64 bits and a key length of 56 bits. The same round function ˆ f is used in each\n",
      "of the 16 rounds. The round function takes a 48-bit sub-key and, as expected\n",
      "for a (balanced) Feistel network, a 32-bit input (namely, half a block). The\n",
      "key schedule of DES is used to derive a sequence of 48-bit sub-keys k1, . . . , k16\n",
      "from the 56-bit master key.\n",
      "¿Coincide con el original? Si\n"
     ]
    }
   ],
   "execution_count": 16
  }
 ],
 "metadata": {
  "kernelspec": {
   "name": "python3",
   "language": "python",
   "display_name": "Python 3 (ipykernel)"
  }
 },
 "nbformat": 5,
 "nbformat_minor": 9
}
